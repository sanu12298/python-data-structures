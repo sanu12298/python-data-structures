{
  "nbformat": 4,
  "nbformat_minor": 0,
  "metadata": {
    "colab": {
      "provenance": []
    },
    "kernelspec": {
      "name": "python3",
      "display_name": "Python 3"
    },
    "language_info": {
      "name": "python"
    }
  },
  "cells": [
    {
      "cell_type": "markdown",
      "source": [
        "#Theory Questions\n"
      ],
      "metadata": {
        "id": "9me3xjz6KG_o"
      }
    },
    {
      "cell_type": "markdown",
      "source": [
        "1. What are data structures, and why are they important?\n",
        "   - Data structures in Python are specialized formats used to store, access,\n",
        "     organize and manipulate data efficiently.\n",
        "     They are important because they help us to manage data\n",
        "     efficiently, allows us to quickly access, manipulate,\n",
        "     and process data, Python provides a rich set of built-in data structures that make it easier for programmers to handle common data management tasks without having to build everything from scratch, you can use different data structures to organize different types of data.\n",
        "\n",
        "2. Explain the difference between mutable and immutable data types with\n",
        "   examples?\n",
        "   - Those data types whose content can be changed or modified after the object\n",
        "     is created are called mutable data types and those data types whose content cannot be changed once the object is created is called immutable data types.\n",
        "     Examples of mutable data types are - Lists, Dictionaries, Sets.\n",
        "     Examples of immutable data types are - Strings, Tuples, Integers, Booleans.\n",
        "\n",
        "3. What are the main differences between lists and tuples in Python?\n",
        "   - Lists are ordered, mutable collections of elements whereas tuples are\n",
        "     ordered and immutable collections of elements.\n",
        "   - You can add, remove, or modify elements within a list using indexing and\n",
        "     slicing whereas you cannot modify the contents in tuples but you can access elements using indexing and slicing.\n",
        "   - Lists are versatile for storing and managing collections that might change\n",
        "     whereas tuples are useful for representing fixed datasets or configurations.\n",
        "   - Lists are created using square brackets where as tuples are created using\n",
        "     parentheses.\n",
        "\n",
        "4. Describe how dictionaries store data?\n",
        "   - dictionaries stores data as key value pair. Keys are unique and immutabl.\n",
        "     In dictionaries, elements are not stored in a specific order. Each key acts as a unique identifier for retrieving an associated value. Keys and values can be of various data types like strings, numbers, lists, and even other dictionaries.\n",
        "\n",
        "5. Why might you use a set instead of a list in Python?\n",
        "   - A list can contain duplicate elements but in sets duplicate entries are  not allowed. This is useful when you need to store a collection of items and\n",
        "     ensure that each element only appears once or is unique.\n",
        "   - Sets make sure that there are no duplicate elements, so if you want to\n",
        "     remove duplicates from a collection, you can simply convert a list to a set whereas Lists allow duplicates, so if you want to remove duplicates, you would have to manually remove them or use techniques like list comprehension, loops.\n",
        "   - Sets are useful for checking membership, so When you need fast membership\n",
        "     testing sets will be more useful.\n",
        "\n",
        "6. What is a string in Python, and how is it different from a list?\n",
        "   - Strings are characters arranged in an unchangeable order. Strings are immutable data types.\n",
        "   - Strings are immutable data type but lists are mutable data type.\n",
        "   - Once created, strings cannot be modified where as lists can be modifies\n",
        "     once created.\n",
        "   - strings contain only characters whereas lists can contain mixed data types (integers, strings, etc.).\n",
        "\n",
        "7.  How do tuples ensure data integrity in Python?\n",
        "    - Once created, the items in a tuple cannot be changed. They provide a secure way to store data that shouldn't be modified. Elements can be accessed using indexing and slicing, but content cannot be modified. Tuples are useful for representing fixed datasets or configurations. This characteristic of tuples ensures data integrity.\n",
        "\n",
        "8. What is a hash table, and how does it relate to dictionaries in Python?\n",
        "   -A hash table is a data structure used to store key-value pairs. The main feature of a hash table is that it allows for fast lookups, insertions, and deletions. Python's dictionary is built on top of hash tables, providing fast access, insertion, and deletion of elements by key. In Python, dictionaries store data in the form of key-value pairs, where each key is processed by a hash function to determine its position in memory. This hash function ensures that each key maps to a specific index, allowing for efficient access to its corresponding value. To maintain the integrity of the hash table, the keys in a dictionary must be immutable. This immutability guarantees that the hash value remains stable over time.\n",
        "\n",
        "9. Can lists contain different data types in Python?\n",
        "   - Yes, Lists can hold items of various data types such as integers, strings, and other lists.\n",
        "\n",
        "10. Explain why strings are immutable in Python?\n",
        "    - Immutability is very important in Python, as it helps in data safety and interpreter performance. The string data type is very common in Python programs hence they are immutable. Strings in Python are immutable to optimize memory usage, ensure data consistency, prevent accidental modifications, and enable efficient usage in hash-based data structures like dictionaries and sets. The immutability also helps in managing concurrency and simplifies program design by making string behavior predictable and thread-safe.\n",
        "\n",
        "11. What advantages do dictionaries offer over lists for certain tasks?\n",
        "    - Dictionaries are enable us to quickly find data based on a key. Unlike lists, where you might need to scan through every element to find something, dictionaries let you access values instantly using the associated key.\n",
        "    -  While lists store values in an ordered , dictionaries are designed for storing key-value pairs, which makes them great when you need to link data together. This could be anything from associating names with phone numbers to linking product IDs with prices.\n",
        "    -  In dictionaries, keys must be unique, so there’s no risk of having duplicate data.\n",
        "    - dictionaries are better when you need to quickly access, update, or remov data using unique keys.\n",
        "\n",
        "12.  Describe a scenario where using a tuple would be preferable over a list.\n",
        "     - They provide a secure way to store data that shouldn't be modified. A tuple is preferred over a list in a scenario where the data is immutable and should not change throughout the program. tuple ensures that the data remains consistent and prevents accidental modifications. A list would be unnecessary where mutability of a list irrelevant.  Using a list in this case would introduce the risk of accidental modifications. tuples are perfect for situations where the data is meant to remain constant, like storing fixed values, function return values, or groupings of related but unchanging data.\n",
        "\n",
        "13. How do sets handle duplicate values in Python?\n",
        "    - Sets automatically handle duplicate values by removing duplicates when the set is created. For example if a number is repeated in set it will show the original number and it will remove the duplicates. Basically set will only show unique elements.\n",
        "\n",
        "14.  How does the “in” keyword work differently for lists and dictionaries?\n",
        "     - \"in\" keyword with a list is used to check whether a value exists anywhere in the list. \"in\" keyword with a dictionary is used to check whether a key exists in the dictionary, not the value.\n",
        "\n",
        "15. Can you modify the elements of a tuple? Explain why or why not?\n",
        "    - Tuples are ordered, immutable collections of elements, similar to lists.However, once created, the items in a tuple cannot be changed, but the contents cannot be modified. Tuples are immutable because their primary use is to store data that should not change after creation.\n",
        "\n",
        "16.  What is a nested dictionary, and give an example of its use case?\n",
        "     - these are dictionaries that can contain other dictionaries as values, forming nested structures. suppose, I'm managing a system to track students and their grades in different subjects. You can use a nested dictionary to store each student's information like name, age, and grades.\n",
        "     In the students dictionary, each student is a key that maps to another dictionary. This second dictionary contains the student's personal information, including their age, grade, and another dictionary for their subject grades. he inner dictionary for subjects holds the grades for individual subjects where each subject name is a key and the grade is the corresponding value. The outer dictionary stores students' names as keys.\n",
        "     ach inner dictionary stores details like age, grade level, and subject grades for each student.\n",
        "\n",
        "17. Describe the time complexity of accessing elements in a dictionary.\n",
        "    - The time complexity of retrieving a value by its key in a dictionary is O(1). This is because dictionaries use a hash table internally which allows constant time lookup. Accessing an element by its key takes constant time regardless of the size of the dictionary. most situations, accessing a dictionary element by its key is a constant-time operation. No matter how big the dictionary grows, it’ll still take about the same time to retrieve a value, making the process really fast and efficient. when you use a key, Python computes a hash for that key. This hash helps Python find exactly where the associated value is stored in the hash table.\n",
        "\n",
        "18. In what situations are lists preferred over dictionaries?\n",
        "    - Lists maintain the order of elements, making them ideal when the sequence of elements matters.\n",
        "    - Lists consume less memory per element than dictionaries because dictionaries maintain an additional hash table for key lookups.\n",
        "    - If you need to access elements by position, lists offer efficient index-based retrieval, whereas dictionaries require key lookups.\n",
        "    - Lists are also ideal for storing homogeneous data, such as a collection of numbers or strings.\n",
        "\n",
        "19. Why are dictionaries considered unordered, and how does that affect data retrieval?\n",
        "    - A dictionary is termed an unordered collection of objects because dictionaries do not maintain any inherent order of the items based on when they were added.  dictionaries do retain insertion order as an implementation detail, meaning elements appear in the order they were added when you print or iterate over them. However, they are still called \"unordered\" because their primary function is fast key-based access, and they are not intended to be used as ordered collections like lists or tuples. The emphasis is  on key-value mapping rather than sequence. Unlike lists, which use index-based access, dictionaries retrieve values based on keys which is faster but does not allow for positional access like lists.\n",
        "\n",
        "20. Explain the difference between a list and a dictionary in terms of data retrieval.\n",
        "    - Lists require a linear search unless the index is known whereas dictionaries use hashing, which makes key lookups much faster.\n",
        "    - Lists allow positional access, meaning you can retrieve an element by its position whereas dictionaries require knowing the exact key, as they do not support direct indexing.\n",
        "\n"
      ],
      "metadata": {
        "id": "IfKxwl8iKeFe"
      }
    },
    {
      "cell_type": "markdown",
      "source": [],
      "metadata": {
        "id": "a788SXM5bF5n"
      }
    },
    {
      "cell_type": "markdown",
      "source": [
        "#Practical Questions"
      ],
      "metadata": {
        "id": "SO2w5UAVuqYH"
      }
    },
    {
      "cell_type": "code",
      "source": [
        "#1. Write a code to create a string with your name and print it"
      ],
      "metadata": {
        "id": "-a7r2TuWuyot"
      },
      "execution_count": null,
      "outputs": []
    },
    {
      "cell_type": "code",
      "execution_count": 1,
      "metadata": {
        "colab": {
          "base_uri": "https://localhost:8080/"
        },
        "id": "71Urq02nJris",
        "outputId": "1d90cee2-6a3b-49bc-ef8e-b87b06014c39"
      },
      "outputs": [
        {
          "output_type": "stream",
          "name": "stdout",
          "text": [
            "Debarshi\n"
          ]
        }
      ],
      "source": [
        "name = \"Debarshi\"\n",
        "print(name)"
      ]
    },
    {
      "cell_type": "code",
      "source": [
        "#2. Write a code to find the length of the string \"Hello World\"\n",
        "lap = \"Hello World\"\n",
        "print(len(lap))"
      ],
      "metadata": {
        "colab": {
          "base_uri": "https://localhost:8080/"
        },
        "id": "5M7PebhEvWhe",
        "outputId": "4127bb0e-4f2f-452e-b0a1-2f74390cd511"
      },
      "execution_count": 2,
      "outputs": [
        {
          "output_type": "stream",
          "name": "stdout",
          "text": [
            "11\n"
          ]
        }
      ]
    },
    {
      "cell_type": "code",
      "source": [
        "#3. P Write a code to slice the first 3 characters from the string \"Python Programming\"\n",
        "slt = \"Python Programming\"\n",
        "print(slt[:3] )\n"
      ],
      "metadata": {
        "colab": {
          "base_uri": "https://localhost:8080/"
        },
        "id": "4MfrAvkfv1EG",
        "outputId": "01d0cb4f-1fd9-4bdc-93d8-9045db194762"
      },
      "execution_count": 3,
      "outputs": [
        {
          "output_type": "stream",
          "name": "stdout",
          "text": [
            "Pyt\n"
          ]
        }
      ]
    },
    {
      "cell_type": "code",
      "source": [
        "#4. P Write a code to convert the string \"hello\" to uppercase.\n",
        "qst = \"hello\"\n",
        "print(qst.upper())\n"
      ],
      "metadata": {
        "colab": {
          "base_uri": "https://localhost:8080/"
        },
        "id": "vrG-yL2-whK-",
        "outputId": "e0e9f946-eca4-40a0-8d31-3b0d82dfef61"
      },
      "execution_count": 4,
      "outputs": [
        {
          "output_type": "stream",
          "name": "stdout",
          "text": [
            "HELLO\n"
          ]
        }
      ]
    },
    {
      "cell_type": "code",
      "source": [
        "#5. Write a code to replace the word \"apple\" with \"orange\" in the string \"I like apple\".\n",
        "mst = \"I like apple\"\n",
        "print(mst.replace(\"apple\", \"orange\"))\n"
      ],
      "metadata": {
        "colab": {
          "base_uri": "https://localhost:8080/"
        },
        "id": "GWpn6upkw4jW",
        "outputId": "5b730dc9-927a-4443-e093-29541cabef03"
      },
      "execution_count": 5,
      "outputs": [
        {
          "output_type": "stream",
          "name": "stdout",
          "text": [
            "I like orange\n"
          ]
        }
      ]
    },
    {
      "cell_type": "code",
      "source": [
        "#6.  Write a code to create a list with numbers 1 to 5 and print it.\n",
        "nos = list(range(1, 6))\n",
        "print(nos)\n"
      ],
      "metadata": {
        "colab": {
          "base_uri": "https://localhost:8080/"
        },
        "id": "C0SpwJT6xUYv",
        "outputId": "0b2908ba-aeb9-486b-cce9-b1749eb1019f"
      },
      "execution_count": 6,
      "outputs": [
        {
          "output_type": "stream",
          "name": "stdout",
          "text": [
            "[1, 2, 3, 4, 5]\n"
          ]
        }
      ]
    },
    {
      "cell_type": "code",
      "source": [
        "#7. Write a code to append the number 10 to the list [1, 2, 3, 4].\n",
        "nus = [1, 2, 3, 4]\n",
        "nus.append(10)\n",
        "print(nus)\n",
        "\n"
      ],
      "metadata": {
        "colab": {
          "base_uri": "https://localhost:8080/"
        },
        "id": "MDzqU1lBxphX",
        "outputId": "ef208ca0-e44e-441b-e546-3ebe9d561603"
      },
      "execution_count": 9,
      "outputs": [
        {
          "output_type": "stream",
          "name": "stdout",
          "text": [
            "[1, 2, 3, 4, 10]\n"
          ]
        }
      ]
    },
    {
      "cell_type": "code",
      "source": [
        "#8. Write a code to remove the number 3 from the list [1, 2, 3, 4, 5].\n",
        "nas = [1, 2, 3, 4, 5]\n",
        "nas.remove(3)\n",
        "print(nas)\n"
      ],
      "metadata": {
        "colab": {
          "base_uri": "https://localhost:8080/"
        },
        "id": "x2mOjnmYyRfe",
        "outputId": "d5634abd-48dc-4361-abed-8c1fb41da5cd"
      },
      "execution_count": 10,
      "outputs": [
        {
          "output_type": "stream",
          "name": "stdout",
          "text": [
            "[1, 2, 4, 5]\n"
          ]
        }
      ]
    },
    {
      "cell_type": "code",
      "source": [
        "#9. Write a code to access the second element in the list ['a', 'b', 'c', 'd'].\n",
        "txt = ['a', 'b', 'c', 'd']\n",
        "print(txt[1])\n"
      ],
      "metadata": {
        "colab": {
          "base_uri": "https://localhost:8080/"
        },
        "id": "AZc7GKBVyoQ_",
        "outputId": "bd41adbc-63dc-4429-9e89-fbd752dbc628"
      },
      "execution_count": 11,
      "outputs": [
        {
          "output_type": "stream",
          "name": "stdout",
          "text": [
            "b\n"
          ]
        }
      ]
    },
    {
      "cell_type": "code",
      "source": [
        "#10. Write a code to reverse the list [10, 20, 30, 40, 50].\n",
        "nms = [10, 20, 30, 40, 50]\n",
        "nms[::-1]\n",
        "\n"
      ],
      "metadata": {
        "colab": {
          "base_uri": "https://localhost:8080/"
        },
        "id": "oCo4BmhJy-Uo",
        "outputId": "4e769db6-14c2-411b-ae6b-10ef91027611"
      },
      "execution_count": 14,
      "outputs": [
        {
          "output_type": "execute_result",
          "data": {
            "text/plain": [
              "[50, 40, 30, 20, 10]"
            ]
          },
          "metadata": {},
          "execution_count": 14
        }
      ]
    },
    {
      "cell_type": "code",
      "source": [
        "#11. Write a code to create a tuple with the elements 100, 200, 300 and print it.\n",
        "nfs = (100, 200, 300)\n",
        "print(nfs)\n"
      ],
      "metadata": {
        "colab": {
          "base_uri": "https://localhost:8080/"
        },
        "id": "3s3PnVVkzpve",
        "outputId": "40567022-c070-4345-d629-a20d65fe2cf8"
      },
      "execution_count": 15,
      "outputs": [
        {
          "output_type": "stream",
          "name": "stdout",
          "text": [
            "(100, 200, 300)\n"
          ]
        }
      ]
    },
    {
      "cell_type": "code",
      "source": [
        "#12. Write a code to access the second-to-last element of the tuple ('red', 'green', 'blue', 'yellow').\n",
        "clrs = ('red', 'green', 'blue', 'yellow')\n",
        "clrs[-2]\n",
        "\n"
      ],
      "metadata": {
        "colab": {
          "base_uri": "https://localhost:8080/",
          "height": 35
        },
        "id": "fCKSLO7J0DeO",
        "outputId": "f7d61120-31f5-4b7e-e62d-47fbfc12fb98"
      },
      "execution_count": 16,
      "outputs": [
        {
          "output_type": "execute_result",
          "data": {
            "text/plain": [
              "'blue'"
            ],
            "application/vnd.google.colaboratory.intrinsic+json": {
              "type": "string"
            }
          },
          "metadata": {},
          "execution_count": 16
        }
      ]
    },
    {
      "cell_type": "code",
      "source": [
        "#13. Write a code to find the minimum number in the tuple (10, 20, 5, 15).\n",
        "nls = (10, 20, 5, 15)\n",
        "min(nls)\n",
        "\n"
      ],
      "metadata": {
        "colab": {
          "base_uri": "https://localhost:8080/"
        },
        "id": "jo2p36wj0e5f",
        "outputId": "c3bbb312-e8e7-4421-ccea-072dbf35dd3c"
      },
      "execution_count": 17,
      "outputs": [
        {
          "output_type": "execute_result",
          "data": {
            "text/plain": [
              "5"
            ]
          },
          "metadata": {},
          "execution_count": 17
        }
      ]
    },
    {
      "cell_type": "code",
      "source": [
        "#14. Write a code to find the index of the element \"cat\" in the tuple ('dog', 'cat', 'rabbit').\n",
        "pts = ('dog', 'cat', 'rabbit')\n",
        "pts.index('cat')\n",
        "\n"
      ],
      "metadata": {
        "colab": {
          "base_uri": "https://localhost:8080/"
        },
        "id": "gavd5RBo0wcu",
        "outputId": "237860e5-68f5-4b90-ccec-6d612e9a4fb0"
      },
      "execution_count": 18,
      "outputs": [
        {
          "output_type": "execute_result",
          "data": {
            "text/plain": [
              "1"
            ]
          },
          "metadata": {},
          "execution_count": 18
        }
      ]
    },
    {
      "cell_type": "code",
      "source": [
        "#15. Write a code to create a tuple containing three different fruits and check if \"kiwi\" is in it.\n",
        "fruits = (\"apple\", \"banana\", \"cherry\")\n",
        "if \"kiwi\" in fruits:\n",
        "    print(\"yes\")\n",
        "else:\n",
        "    print(\"no\")\n"
      ],
      "metadata": {
        "colab": {
          "base_uri": "https://localhost:8080/"
        },
        "id": "DJqTTUOa1Tu3",
        "outputId": "c7145e8b-eb74-45f3-aa69-f12fc7a7bfae"
      },
      "execution_count": 20,
      "outputs": [
        {
          "output_type": "stream",
          "name": "stdout",
          "text": [
            "no\n"
          ]
        }
      ]
    },
    {
      "cell_type": "code",
      "source": [
        "#16. Write a code to create a set with the elements 'a', 'b', 'c' and print it.\n",
        "alps = {'a', 'b', 'c'}\n",
        "print(alps)\n"
      ],
      "metadata": {
        "colab": {
          "base_uri": "https://localhost:8080/"
        },
        "id": "Rv389o-w12_P",
        "outputId": "2acd3c68-8e42-4b13-8752-5a505cea815d"
      },
      "execution_count": 21,
      "outputs": [
        {
          "output_type": "stream",
          "name": "stdout",
          "text": [
            "{'a', 'b', 'c'}\n"
          ]
        }
      ]
    },
    {
      "cell_type": "code",
      "source": [
        "#17. Write a code to clear all elements from the set {1, 2, 3, 4, 5}.\n",
        "newset = {1, 2, 3, 4, 5}\n",
        "newset.clear()\n"
      ],
      "metadata": {
        "id": "Eavsgi_82ME1"
      },
      "execution_count": 27,
      "outputs": []
    },
    {
      "cell_type": "code",
      "source": [
        "#18. Write a code to remove the element 4 from the set {1, 2, 3, 4}.\n",
        "olset = {1, 2, 3, 4}\n",
        "olset.remove(4)\n",
        "olset\n",
        "\n",
        "\n"
      ],
      "metadata": {
        "colab": {
          "base_uri": "https://localhost:8080/"
        },
        "id": "0a5ZrnVb2fkn",
        "outputId": "76e4a2cf-9793-4dd3-9cc7-744d11222230"
      },
      "execution_count": 45,
      "outputs": [
        {
          "output_type": "execute_result",
          "data": {
            "text/plain": [
              "{1, 2, 3}"
            ]
          },
          "metadata": {},
          "execution_count": 45
        }
      ]
    },
    {
      "cell_type": "code",
      "source": [
        "#19. Write a code to find the union of two sets {1, 2, 3} and {3, 4, 5}.\n",
        "set1 = {1, 2, 3}\n",
        "set2 = {3, 4, 5}\n",
        "\n",
        "newset = set1.union(set2)\n",
        "newset\n"
      ],
      "metadata": {
        "colab": {
          "base_uri": "https://localhost:8080/"
        },
        "id": "IVMBETQr3O0I",
        "outputId": "04072be5-3e12-49a9-82af-4dc908baadc4"
      },
      "execution_count": 37,
      "outputs": [
        {
          "output_type": "execute_result",
          "data": {
            "text/plain": [
              "{1, 2, 3, 4, 5}"
            ]
          },
          "metadata": {},
          "execution_count": 37
        }
      ]
    },
    {
      "cell_type": "code",
      "source": [
        "#20.Write a code to find the intersection of two sets {1, 2, 3} and {2, 3, 4}.\n",
        "set1 = {1, 2, 3}\n",
        "set2 = {2, 3, 4}\n",
        "set3 = set1 & set2\n",
        "set3\n"
      ],
      "metadata": {
        "colab": {
          "base_uri": "https://localhost:8080/"
        },
        "id": "GDWkAtpW3qDY",
        "outputId": "21919970-ba92-4a13-fd05-177e17bba5f2"
      },
      "execution_count": 36,
      "outputs": [
        {
          "output_type": "execute_result",
          "data": {
            "text/plain": [
              "{2, 3}"
            ]
          },
          "metadata": {},
          "execution_count": 36
        }
      ]
    },
    {
      "cell_type": "code",
      "source": [
        "#21. Write a code to create a dictionary with the keys \"name\", \"age\", and \"city\", and print it.\n",
        "prsn = { \"name\": \"sheldon\", \"age\": 23, \"city\": \"seattle\"}\n",
        "prsn\n"
      ],
      "metadata": {
        "colab": {
          "base_uri": "https://localhost:8080/"
        },
        "id": "qSv0O_Pd4L11",
        "outputId": "10a02cdb-e2d9-4824-da76-3ac0ac3144e2"
      },
      "execution_count": 35,
      "outputs": [
        {
          "output_type": "execute_result",
          "data": {
            "text/plain": [
              "{'name': 'sheldon', 'age': 23, 'city': 'seattle'}"
            ]
          },
          "metadata": {},
          "execution_count": 35
        }
      ]
    },
    {
      "cell_type": "code",
      "source": [
        "#22. Write a code to add a new key-value pair \"country\": \"USA\" to the dictionary {'name': 'John', 'age': 25}.\n",
        "man = {'name': 'John', 'age': 25}\n",
        "man['country'] = 'USA'\n",
        "man\n",
        "\n"
      ],
      "metadata": {
        "colab": {
          "base_uri": "https://localhost:8080/"
        },
        "id": "xvtxoRBA43bv",
        "outputId": "a6886740-1b85-4e75-fec6-686723e02534"
      },
      "execution_count": 44,
      "outputs": [
        {
          "output_type": "execute_result",
          "data": {
            "text/plain": [
              "{'name': 'John', 'age': 25, 'country': 'USA'}"
            ]
          },
          "metadata": {},
          "execution_count": 44
        }
      ]
    },
    {
      "cell_type": "code",
      "source": [
        "#23. Write a code to access the value associated with the key \"name\" in the dictionary {'name': 'Alice', 'age': 30}.\n",
        "man1 = {'name': 'Alice', 'age': 30}\n",
        "man1['name']\n",
        "\n"
      ],
      "metadata": {
        "colab": {
          "base_uri": "https://localhost:8080/",
          "height": 35
        },
        "id": "Db83XP9-5Q-w",
        "outputId": "bcfe3c49-45a7-4860-bdae-0b8a1c8c767d"
      },
      "execution_count": 41,
      "outputs": [
        {
          "output_type": "execute_result",
          "data": {
            "text/plain": [
              "'Alice'"
            ],
            "application/vnd.google.colaboratory.intrinsic+json": {
              "type": "string"
            }
          },
          "metadata": {},
          "execution_count": 41
        }
      ]
    },
    {
      "cell_type": "code",
      "source": [
        "#24. Write a code to remove the key \"age\" from the dictionary {'name': 'Bob', 'age': 22, 'city': 'New York'}.\n",
        "man2 = {'name': 'Bob', 'age': 22, 'city': 'New York'}\n",
        "man2.pop('age')\n",
        "man2\n",
        "\n"
      ],
      "metadata": {
        "colab": {
          "base_uri": "https://localhost:8080/"
        },
        "id": "s_Mw0wXm5qQQ",
        "outputId": "2031169f-ff92-4697-fc09-3113a4064485"
      },
      "execution_count": 43,
      "outputs": [
        {
          "output_type": "execute_result",
          "data": {
            "text/plain": [
              "{'name': 'Bob', 'city': 'New York'}"
            ]
          },
          "metadata": {},
          "execution_count": 43
        }
      ]
    },
    {
      "cell_type": "code",
      "source": [
        "#25. Write a code to check if the key \"city\" exists in the dictionary {'name': 'Alice', 'city': 'Paris'}.\n",
        "man4 = {'name': 'Alice', 'city': 'Paris'}\n",
        "\n",
        "if 'city' in man4:\n",
        "    print(\"yes\")\n",
        "else:\n",
        "    print(\"no\")\n"
      ],
      "metadata": {
        "colab": {
          "base_uri": "https://localhost:8080/"
        },
        "id": "tklkDhiQ6Olu",
        "outputId": "f6d303cc-8034-481b-8b01-337b1472d225"
      },
      "execution_count": 46,
      "outputs": [
        {
          "output_type": "stream",
          "name": "stdout",
          "text": [
            "yes\n"
          ]
        }
      ]
    },
    {
      "cell_type": "code",
      "source": [
        "#26. Write a code to create a list, a tuple, and a dictionary, and print them all.\n",
        "list1 = [1, 2, 3, 4, 5]\n",
        "tuple2 = ('manhattan', 'fortworth', 'san francisco')\n",
        "dict3 = {'name': 'phil', 'age': 40, 'city': 'los angeles'}\n",
        "print(\"List:\", list1)\n",
        "print(\"Tuple:\", tuple2)\n",
        "print(\"Dictionary:\", dict3)\n"
      ],
      "metadata": {
        "colab": {
          "base_uri": "https://localhost:8080/"
        },
        "id": "UMOLuGSK6nU2",
        "outputId": "675c03a4-6db3-4b9e-ef8c-abe2df490b57"
      },
      "execution_count": 47,
      "outputs": [
        {
          "output_type": "stream",
          "name": "stdout",
          "text": [
            "List: [1, 2, 3, 4, 5]\n",
            "Tuple: ('manhattan', 'fortworth', 'san francisco')\n",
            "Dictionary: {'name': 'phil', 'age': 40, 'city': 'los angeles'}\n"
          ]
        }
      ]
    },
    {
      "cell_type": "code",
      "source": [
        "#27. Write a code to create a list of 5 random numbers between 1 and 100, sort it in ascending order, and print the result.(replaced)\n",
        "import random\n",
        "numbss = random.sample(range(1, 101), 5)\n",
        "numbss.sort()\n",
        "print(numbss)\n"
      ],
      "metadata": {
        "colab": {
          "base_uri": "https://localhost:8080/"
        },
        "id": "YyPVI09j7g3O",
        "outputId": "98dcff1f-ab9a-46e8-ce6c-a53d3d26e88f"
      },
      "execution_count": 53,
      "outputs": [
        {
          "output_type": "stream",
          "name": "stdout",
          "text": [
            "[18, 46, 65, 72, 85]\n"
          ]
        }
      ]
    },
    {
      "cell_type": "code",
      "source": [
        "#28. Write a code to create a list with strings and print the element at the third index.\n",
        "list5 = [\"fries\", \"burrito\", \"burger\", \"taco\", \"pizza\"]\n",
        "print(\"Element at index 3:\", list5[3])\n"
      ],
      "metadata": {
        "colab": {
          "base_uri": "https://localhost:8080/"
        },
        "id": "Pq-dPGJy9XTN",
        "outputId": "a958eaa6-6f1b-4ae8-e173-8cece8acd05b"
      },
      "execution_count": 56,
      "outputs": [
        {
          "output_type": "stream",
          "name": "stdout",
          "text": [
            "Element at index 3: taco\n"
          ]
        }
      ]
    },
    {
      "cell_type": "code",
      "source": [
        "#29. Write a code to combine two dictionaries into one and print the result.\n",
        "dict1 = {'name': \"max\", 'age': 22}\n",
        "dict2 = {'height': 6.1, 'state': \"montana\"}\n",
        "\n",
        "dict1.update(dict2)\n",
        "print(dict1)\n"
      ],
      "metadata": {
        "colab": {
          "base_uri": "https://localhost:8080/"
        },
        "id": "S3LGPjaA-POX",
        "outputId": "581dd2ca-ba57-4357-8949-55eb938a1f3a"
      },
      "execution_count": 58,
      "outputs": [
        {
          "output_type": "stream",
          "name": "stdout",
          "text": [
            "{'name': 'max', 'age': 22, 'height': 6.1, 'state': 'montana'}\n"
          ]
        }
      ]
    },
    {
      "cell_type": "code",
      "source": [
        "#30. Write a code to convert a list of strings into a set.\n",
        "list7 = [1 , 2 , 3 ,4 , 4]\n",
        "newset1 = set(list7)\n",
        "newset1\n"
      ],
      "metadata": {
        "colab": {
          "base_uri": "https://localhost:8080/"
        },
        "id": "66n4fnNC-7FV",
        "outputId": "2a1f329e-b833-478a-96fb-412a32aa05b2"
      },
      "execution_count": 60,
      "outputs": [
        {
          "output_type": "execute_result",
          "data": {
            "text/plain": [
              "{1, 2, 3, 4}"
            ]
          },
          "metadata": {},
          "execution_count": 60
        }
      ]
    }
  ]
}